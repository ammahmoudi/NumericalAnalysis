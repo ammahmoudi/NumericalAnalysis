{
 "cells": [
  {
   "attachments": {},
   "cell_type": "markdown",
   "metadata": {},
   "source": [
    "Amirhossein Mahmoudi-98108779\n",
    "\n",
    "# 11_2_6"
   ]
  },
  {
   "cell_type": "code",
   "execution_count": 132,
   "metadata": {},
   "outputs": [],
   "source": [
    "import pandas as pd\n",
    "from math import *\n",
    "import numpy as np\n",
    "from decimal import Decimal"
   ]
  },
  {
   "attachments": {},
   "cell_type": "markdown",
   "metadata": {},
   "source": [
    "# Corrector Values "
   ]
  },
  {
   "cell_type": "code",
   "execution_count": 133,
   "metadata": {},
   "outputs": [],
   "source": [
    "AB_correctors = [\n",
    "\t[2, 3, -1],\n",
    "\t[12, 23, -16, 5],\n",
    "\t[24, 55, -59, 37, -9],\n",
    "\t[720, 1901, -2774, 2616, -1274, 251]\n",
    "]\n",
    "AM_correctors=[\n",
    "    [2, 1, 1],\n",
    "    [12, 5, 8, -1],\n",
    "    [24, 9, 19, -5,1],\n",
    "    [720, 251, 646, -264, 106,-19]\n",
    "    \n",
    "]"
   ]
  },
  {
   "attachments": {},
   "cell_type": "markdown",
   "metadata": {},
   "source": [
    "# RK-4 Method"
   ]
  },
  {
   "cell_type": "code",
   "execution_count": 134,
   "metadata": {},
   "outputs": [],
   "source": [
    "def rk4(f, t, y,h):\n",
    "\tk1 = Decimal(h)*f(t, y)\n",
    "\tk2 = Decimal(h)*f(t + h/2, y + k1/2)\n",
    "\tk3 = Decimal(h)*f(t + h/2, y + k2/2)\n",
    "\tk4 = Decimal(h)*f(t + h, y + k3)\n",
    "\tt=t+h\n",
    "\t#print(t)\n",
    "\treturn t,y + (k1 + 2*k2 + 2*k3 + k4)/6"
   ]
  },
  {
   "attachments": {},
   "cell_type": "markdown",
   "metadata": {},
   "source": [
    "# Adams Variable Step size Predictor Corrector with N step Adams-Bashforth and N-1 step Adams_Moulton Method"
   ]
  },
  {
   "cell_type": "code",
   "execution_count": 135,
   "metadata": {},
   "outputs": [],
   "source": [
    "def nonlinear_Shooting_secant_method(f,a,b,alpha,beta,tol,M,N):\n",
    "\th=(b-a)/N\n",
    "\tk=2\n",
    "\ttk1=(beta-alpha)/(b-a)\n",
    "\tw=[[0, 0] for _ in range(N)]\n",
    "\tw[0][0]=alpha\n",
    "\tw[0][1]=tk1\n",
    "\tprint(w)\n",
    "\tks=[[0]*2]*4\n",
    "\tresult=[]\n",
    "\tfor i in range(1,N):\n",
    "\t\tx=a+(i-1)*h\n",
    "\t\tks[0][0]=h*w[i-1][1]\n",
    "\t\tks[0][1]=h*f(x,w[i-1][0],w[i-1][1])\n",
    "\t\tks[1][0]=h*(w[i-1][1]+ks[0][1]/2)\n",
    "\t\tks[1][1]=h*f(x+h/2,w[i-1][0]+ks[0][0],w[i-1][1]+ks[0][1]/2)\n",
    "\t\tks[2][0]=h*(w[i-1][1]+ks[1][1]/2)\n",
    "\t\tks[2][1]=h*f(x+h/2,w[i-1][0]+ks[2][0],w[i-1][1]+ks[2][1]/2)\n",
    "\t\tks[3][0]=h*(w[i-1][0]+ks[2][1]/2)\n",
    "\t\tks[3][1]=h*f(x+h/2,w[i-1][0]+ks[2][0]+ks[2][0],w[i-1][1]+ks[2][1])\n",
    "\t\t\n",
    "\t\tw[i][0]=w[i-1][0]+(ks[0][0]+2*ks[1][0]+2*ks[2][0]+ks[3][0])/6\n",
    "\t\tw[i][1]=w[i-1][1]+(ks[0][1]+2*ks[1][1]+2*ks[2][1]+ks[3][1])/6\n",
    "\n",
    "\ttk2=tk1+(beta-w[N-1][0])/(b-a)\n",
    "\twhile(k<=M):\n",
    "\t\tw[0][1]=tk2\n",
    "\t\thold=w[N-1][0]\n",
    "\t\tfor i in range(1,N):\n",
    "\t\t\tx=a+(i-1)*h\n",
    "\t\t\tks[0][0]=h*w[i-1][1]\n",
    "\t\t\tks[0][1]=h*f(x,w[i-1][0],w[i-1][1])\n",
    "\t\t\tks[1][0]=h*(w[i-1][1]+ks[0][1]/2)\n",
    "\t\t\tks[1][1]=h*f(x+h/2,w[i-1][0]+ks[0][0],w[i-1][1]+ks[0][1]/2)\n",
    "\t\t\tks[2][0]=h*(w[i-1][1]+ks[1][1]/2)\n",
    "\t\t\tks[2][1]=h*f(x+h/2,w[i-1][0]+ks[2][0],w[i-1][1]+ks[2][1]/2)\n",
    "\t\t\tks[3][0]=h*(w[i-1][0]+ks[2][1]/2)\n",
    "\t\t\tks[3][1]=h*f(x+h/2,w[i-1][0]+ks[2][0]+ks[2][0],w[i-1][1]+ks[2][1])\n",
    "\t\t\tw[i][0]=w[i-1][0]+(ks[0][0]+2*ks[1][0]+2*ks[2][0]+ks[3][0])/6\n",
    "\t\t\tw[i][1]=w[i-1][1]+(ks[0][1]+2*ks[1][1]+2*ks[2][1]+ks[3][1])/6\n",
    "\t\tif abs(w[N-1][0]-beta)<=tol:\n",
    "\t\t\tfor i in range(N):\n",
    "\t\t\t\tx=a+i*h\n",
    "\t\t\t\tresult.append([x,w[i][0],w[i][1]])\n",
    "\t\t\treturn result\n",
    "\t\ttk=tk2-((w[N-1][0]*(tk2-tk1))/(w[N-1][0]-hold))\n",
    "\t\ttk1=tk2\n",
    "\t\ttk2=tk\n",
    "\t\tk=k+1\n",
    "\t\t# print(w)\n",
    "\tprint('max interation exceede')\n",
    "\treturn result\n",
    "\n"
   ]
  },
  {
   "attachments": {},
   "cell_type": "markdown",
   "metadata": {},
   "source": [
    "# Test"
   ]
  },
  {
   "cell_type": "code",
   "execution_count": 136,
   "metadata": {},
   "outputs": [
    {
     "name": "stdout",
     "output_type": "stream",
     "text": [
      "[[0.5, -0.16666666666666669], [0, 0], [0, 0], [0, 0], [0, 0], [0, 0], [0, 0], [0, 0], [0, 0], [0, 0]]\n"
     ]
    },
    {
     "ename": "ZeroDivisionError",
     "evalue": "float division by zero",
     "output_type": "error",
     "traceback": [
      "\u001b[1;31m---------------------------------------------------------------------------\u001b[0m",
      "\u001b[1;31mZeroDivisionError\u001b[0m                         Traceback (most recent call last)",
      "\u001b[1;32mc:\\Users\\HP OMEN\\OneDrive - student.sharif.edu\\University\\Term 8\\Numerical Analysis 2\\Homeworks\\HW3\\11_2_6.ipynb Cell 10\u001b[0m in \u001b[0;36m1\n\u001b[0;32m     <a href='vscode-notebook-cell:/c%3A/Users/HP%20OMEN/OneDrive%20-%20student.sharif.edu/University/Term%208/Numerical%20Analysis%202/Homeworks/HW3/11_2_6.ipynb#X12sZmlsZQ%3D%3D?line=10'>11</a>\u001b[0m beta\u001b[39m=\u001b[39m\u001b[39m1.0\u001b[39m\u001b[39m/\u001b[39m\u001b[39m3\u001b[39m\n\u001b[0;32m     <a href='vscode-notebook-cell:/c%3A/Users/HP%20OMEN/OneDrive%20-%20student.sharif.edu/University/Term%208/Numerical%20Analysis%202/Homeworks/HW3/11_2_6.ipynb#X12sZmlsZQ%3D%3D?line=12'>13</a>\u001b[0m result\u001b[39m=\u001b[39mpd\u001b[39m.\u001b[39mDataFrame()\n\u001b[1;32m---> <a href='vscode-notebook-cell:/c%3A/Users/HP%20OMEN/OneDrive%20-%20student.sharif.edu/University/Term%208/Numerical%20Analysis%202/Homeworks/HW3/11_2_6.ipynb#X12sZmlsZQ%3D%3D?line=13'>14</a>\u001b[0m result_n\u001b[39m=\u001b[39mnonlinear_Shooting_secant_method(f,a,b,alpha,beta,tol,M,N)\n\u001b[0;32m     <a href='vscode-notebook-cell:/c%3A/Users/HP%20OMEN/OneDrive%20-%20student.sharif.edu/University/Term%208/Numerical%20Analysis%202/Homeworks/HW3/11_2_6.ipynb#X12sZmlsZQ%3D%3D?line=14'>15</a>\u001b[0m result_actual\u001b[39m=\u001b[39m[y_actual(result_n[i][\u001b[39m0\u001b[39m]) \u001b[39mfor\u001b[39;00m i \u001b[39min\u001b[39;00m \u001b[39mrange\u001b[39m(\u001b[39mlen\u001b[39m(result_n))]\n\u001b[0;32m     <a href='vscode-notebook-cell:/c%3A/Users/HP%20OMEN/OneDrive%20-%20student.sharif.edu/University/Term%208/Numerical%20Analysis%202/Homeworks/HW3/11_2_6.ipynb#X12sZmlsZQ%3D%3D?line=15'>16</a>\u001b[0m result\u001b[39m=\u001b[39mnp\u001b[39m.\u001b[39mc_[result_n,result_actual]\n",
      "\u001b[1;32mc:\\Users\\HP OMEN\\OneDrive - student.sharif.edu\\University\\Term 8\\Numerical Analysis 2\\Homeworks\\HW3\\11_2_6.ipynb Cell 10\u001b[0m in \u001b[0;36m4\n\u001b[0;32m     <a href='vscode-notebook-cell:/c%3A/Users/HP%20OMEN/OneDrive%20-%20student.sharif.edu/University/Term%208/Numerical%20Analysis%202/Homeworks/HW3/11_2_6.ipynb#X12sZmlsZQ%3D%3D?line=43'>44</a>\u001b[0m \t\tresult\u001b[39m.\u001b[39mappend([x,w[i][\u001b[39m0\u001b[39m],w[i][\u001b[39m1\u001b[39m]])\n\u001b[0;32m     <a href='vscode-notebook-cell:/c%3A/Users/HP%20OMEN/OneDrive%20-%20student.sharif.edu/University/Term%208/Numerical%20Analysis%202/Homeworks/HW3/11_2_6.ipynb#X12sZmlsZQ%3D%3D?line=44'>45</a>\u001b[0m \t\u001b[39mreturn\u001b[39;00m result\n\u001b[1;32m---> <a href='vscode-notebook-cell:/c%3A/Users/HP%20OMEN/OneDrive%20-%20student.sharif.edu/University/Term%208/Numerical%20Analysis%202/Homeworks/HW3/11_2_6.ipynb#X12sZmlsZQ%3D%3D?line=45'>46</a>\u001b[0m tk\u001b[39m=\u001b[39mtk2\u001b[39m-\u001b[39m((w[N\u001b[39m-\u001b[39;49m\u001b[39m1\u001b[39;49m][\u001b[39m0\u001b[39;49m]\u001b[39m*\u001b[39;49m(tk2\u001b[39m-\u001b[39;49mtk1))\u001b[39m/\u001b[39;49m(w[N\u001b[39m-\u001b[39;49m\u001b[39m1\u001b[39;49m][\u001b[39m0\u001b[39;49m]\u001b[39m-\u001b[39;49mhold))\n\u001b[0;32m     <a href='vscode-notebook-cell:/c%3A/Users/HP%20OMEN/OneDrive%20-%20student.sharif.edu/University/Term%208/Numerical%20Analysis%202/Homeworks/HW3/11_2_6.ipynb#X12sZmlsZQ%3D%3D?line=46'>47</a>\u001b[0m tk1\u001b[39m=\u001b[39mtk2\n\u001b[0;32m     <a href='vscode-notebook-cell:/c%3A/Users/HP%20OMEN/OneDrive%20-%20student.sharif.edu/University/Term%208/Numerical%20Analysis%202/Homeworks/HW3/11_2_6.ipynb#X12sZmlsZQ%3D%3D?line=47'>48</a>\u001b[0m tk2\u001b[39m=\u001b[39mtk\n",
      "\u001b[1;31mZeroDivisionError\u001b[0m: float division by zero"
     ]
    }
   ],
   "source": [
    "# f = lambda t, y: y-t**2+1\n",
    "f = lambda x, y,y_p: float(Decimal(y)*Decimal(y)*Decimal(y))-y*y_p\n",
    "y_actual = lambda x: 1/(1+x)\n",
    "h=0.1\n",
    "N=10\n",
    "tol=1E-04\n",
    "M=100\n",
    "a=1.0\n",
    "b=2.0\n",
    "alpha=1.0/2\n",
    "beta=1.0/3\n",
    "\n",
    "result=pd.DataFrame()\n",
    "result_n=nonlinear_Shooting_secant_method(f,a,b,alpha,beta,tol,M,N)\n",
    "result_actual=[y_actual(result_n[i][0]) for i in range(len(result_n))]\n",
    "result=np.c_[result_n,result_actual]\n",
    "result=pd.DataFrame(result,columns=['x','w_0','w_1','actual'])\n",
    "result.head(n=100)"
   ]
  }
 ],
 "metadata": {
  "kernelspec": {
   "display_name": "Python 3",
   "language": "python",
   "name": "python3"
  },
  "language_info": {
   "codemirror_mode": {
    "name": "ipython",
    "version": 3
   },
   "file_extension": ".py",
   "mimetype": "text/x-python",
   "name": "python",
   "nbconvert_exporter": "python",
   "pygments_lexer": "ipython3",
   "version": "3.10.10"
  },
  "orig_nbformat": 4
 },
 "nbformat": 4,
 "nbformat_minor": 2
}
