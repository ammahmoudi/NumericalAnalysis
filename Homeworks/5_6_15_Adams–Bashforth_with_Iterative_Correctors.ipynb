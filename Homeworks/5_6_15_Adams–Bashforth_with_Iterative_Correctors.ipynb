{
 "cells": [
  {
   "attachments": {},
   "cell_type": "markdown",
   "metadata": {},
   "source": [
    "[Amirhossein Mahmoudi](https://ammahmoudi.github.io)\n",
    "# Adams–Bashforth Method with Iterative Correctors\n",
    "solution to [Numerical Analysis (R. Burden, Aires, A. Burden) [10th Ed.]](https://www.amazon.com/Richard-Burden-Numerical-Analysis-Hardcover/dp/B00SB3UL20) Section 5.6 question 15\n",
    "\n",
    "![5_6_15](images/5_6_15.png)"
   ]
  },
  {
   "cell_type": "code",
   "execution_count": 6,
   "metadata": {},
   "outputs": [],
   "source": [
    "import pandas as pd\n",
    "from math import *\n",
    "import numpy as np"
   ]
  },
  {
   "attachments": {},
   "cell_type": "markdown",
   "metadata": {},
   "source": [
    "# Corrector Values for AB Method 2,3,4,5 step"
   ]
  },
  {
   "cell_type": "code",
   "execution_count": 7,
   "metadata": {},
   "outputs": [],
   "source": [
    "correctors = [\n",
    "\t[2, 3, -1],\n",
    "\t[12, 23, -16, 5],\n",
    "\t[24, 55, -59, 37, -9],\n",
    "\t[720, 1901, -2774, 2616, -1274, 251]\n",
    "]"
   ]
  },
  {
   "attachments": {},
   "cell_type": "markdown",
   "metadata": {},
   "source": [
    "# RK-4 Method"
   ]
  },
  {
   "cell_type": "code",
   "execution_count": 8,
   "metadata": {},
   "outputs": [],
   "source": [
    "def rk4(f, t, y,h):\n",
    "\tk1 = h*f(t, y)\n",
    "\tk2 = h*f(t + h/2, y + k1/2)\n",
    "\tk3 = h*f(t + h/2, y + k2/2)\n",
    "\tk4 = h*f(t + h, y + k3)\n",
    "\treturn y + (k1 + 2*k2 + 2*k3 + k4)/6"
   ]
  },
  {
   "attachments": {},
   "cell_type": "markdown",
   "metadata": {},
   "source": [
    "# Adams–Bashforth method with rk4 initializer"
   ]
  },
  {
   "cell_type": "code",
   "execution_count": 9,
   "metadata": {},
   "outputs": [],
   "source": [
    "def abN_rk4(f, f_actual, t, y, p, h, N,correctors,corrector_iterations,correction):\n",
    "\t#coeffients\n",
    "\tcorrector = correctors[N-2]\n",
    "\t#number of steps\n",
    "\tn = int((p-t)/h)\n",
    "\t#intialize time array\n",
    "\ttime = [t+h*i for i in range(n+1)]\n",
    "\t#initialze y_vaules\n",
    "\ty_values = [y]\n",
    "\t#make inital values from rk4\n",
    "\tfor i in range(1,N):\n",
    "\t\ty_values.append(rk4(f, time[i-1], y_values[i-1],h))\n",
    "\t#run the algorithm\n",
    "\tfor i in range(N, n+1):\n",
    "\t\tfix = 0\n",
    "\t\tfor j in range(N):\n",
    "\t\t\tfix += corrector[j+1] * f(time[i-j-1], y_values[i-j-1])\n",
    "\t\tyn = y_values[i-1] + h/corrector[0]*fix\n",
    "\t\n",
    "\t\tif N == 4 and correction:\n",
    "\t\t\tfor ci in range(corrector_iterations):\n",
    "\t\t\t\tfix = 9*f(time[i], yn)\n",
    "\t\t\t\tcoeffs = [19, -5, 1]\n",
    "\t\t\t\tfor j in range(len(coeffs)):\n",
    "\t\t\t\t\tfix += coeffs[j] * f(time[i-j-1], y_values[i-j-1])\n",
    "\t\t\t\tyn = y_values[i-1] + h/24*fix\n",
    "\n",
    "\t\ty_values.append(yn)\n",
    "\ty_actual=np.ones_like(time)\n",
    "\tfor i in range(len(y_values)):\n",
    "\t\ty_actual[i]=f_actual(time[i])\n",
    "\n",
    "\treturn np.c_[time,y_values,y_actual]\n"
   ]
  },
  {
   "attachments": {},
   "cell_type": "markdown",
   "metadata": {},
   "source": [
    "# Test"
   ]
  },
  {
   "cell_type": "code",
   "execution_count": 10,
   "metadata": {},
   "outputs": [
    {
     "data": {
      "text/html": [
       "<div>\n",
       "<style scoped>\n",
       "    .dataframe tbody tr th:only-of-type {\n",
       "        vertical-align: middle;\n",
       "    }\n",
       "\n",
       "    .dataframe tbody tr th {\n",
       "        vertical-align: top;\n",
       "    }\n",
       "\n",
       "    .dataframe thead th {\n",
       "        text-align: right;\n",
       "    }\n",
       "</style>\n",
       "<table border=\"1\" class=\"dataframe\">\n",
       "  <thead>\n",
       "    <tr style=\"text-align: right;\">\n",
       "      <th></th>\n",
       "      <th>time</th>\n",
       "      <th>2-iteration</th>\n",
       "      <th>3-iteration</th>\n",
       "      <th>4-iteration</th>\n",
       "      <th>exact</th>\n",
       "    </tr>\n",
       "  </thead>\n",
       "  <tbody>\n",
       "    <tr>\n",
       "      <th>0</th>\n",
       "      <td>1.0</td>\n",
       "      <td>0.000000</td>\n",
       "      <td>0.000000</td>\n",
       "      <td>0.000000</td>\n",
       "      <td>0.000000</td>\n",
       "    </tr>\n",
       "    <tr>\n",
       "      <th>1</th>\n",
       "      <td>1.2</td>\n",
       "      <td>0.221246</td>\n",
       "      <td>0.221246</td>\n",
       "      <td>0.221246</td>\n",
       "      <td>0.221243</td>\n",
       "    </tr>\n",
       "    <tr>\n",
       "      <th>2</th>\n",
       "      <td>1.4</td>\n",
       "      <td>0.489684</td>\n",
       "      <td>0.489684</td>\n",
       "      <td>0.489684</td>\n",
       "      <td>0.489682</td>\n",
       "    </tr>\n",
       "    <tr>\n",
       "      <th>3</th>\n",
       "      <td>1.6</td>\n",
       "      <td>0.812752</td>\n",
       "      <td>0.812752</td>\n",
       "      <td>0.812752</td>\n",
       "      <td>0.812753</td>\n",
       "    </tr>\n",
       "    <tr>\n",
       "      <th>4</th>\n",
       "      <td>1.8</td>\n",
       "      <td>1.199462</td>\n",
       "      <td>1.199465</td>\n",
       "      <td>1.199466</td>\n",
       "      <td>1.199439</td>\n",
       "    </tr>\n",
       "    <tr>\n",
       "      <th>5</th>\n",
       "      <td>2.0</td>\n",
       "      <td>1.661343</td>\n",
       "      <td>1.661351</td>\n",
       "      <td>1.661352</td>\n",
       "      <td>1.661282</td>\n",
       "    </tr>\n",
       "    <tr>\n",
       "      <th>6</th>\n",
       "      <td>2.2</td>\n",
       "      <td>2.213626</td>\n",
       "      <td>2.213641</td>\n",
       "      <td>2.213643</td>\n",
       "      <td>2.213502</td>\n",
       "    </tr>\n",
       "    <tr>\n",
       "      <th>7</th>\n",
       "      <td>2.4</td>\n",
       "      <td>2.876784</td>\n",
       "      <td>2.876811</td>\n",
       "      <td>2.876814</td>\n",
       "      <td>2.876551</td>\n",
       "    </tr>\n",
       "    <tr>\n",
       "      <th>8</th>\n",
       "      <td>2.6</td>\n",
       "      <td>3.678894</td>\n",
       "      <td>3.678943</td>\n",
       "      <td>3.678948</td>\n",
       "      <td>3.678475</td>\n",
       "    </tr>\n",
       "    <tr>\n",
       "      <th>9</th>\n",
       "      <td>2.8</td>\n",
       "      <td>4.659412</td>\n",
       "      <td>4.659500</td>\n",
       "      <td>4.659509</td>\n",
       "      <td>4.658665</td>\n",
       "    </tr>\n",
       "    <tr>\n",
       "      <th>10</th>\n",
       "      <td>3.0</td>\n",
       "      <td>5.875442</td>\n",
       "      <td>5.875604</td>\n",
       "      <td>5.875622</td>\n",
       "      <td>5.874100</td>\n",
       "    </tr>\n",
       "  </tbody>\n",
       "</table>\n",
       "</div>"
      ],
      "text/plain": [
       "    time  2-iteration  3-iteration  4-iteration     exact\n",
       "0    1.0     0.000000     0.000000     0.000000  0.000000\n",
       "1    1.2     0.221246     0.221246     0.221246  0.221243\n",
       "2    1.4     0.489684     0.489684     0.489684  0.489682\n",
       "3    1.6     0.812752     0.812752     0.812752  0.812753\n",
       "4    1.8     1.199462     1.199465     1.199466  1.199439\n",
       "5    2.0     1.661343     1.661351     1.661352  1.661282\n",
       "6    2.2     2.213626     2.213641     2.213643  2.213502\n",
       "7    2.4     2.876784     2.876811     2.876814  2.876551\n",
       "8    2.6     3.678894     3.678943     3.678948  3.678475\n",
       "9    2.8     4.659412     4.659500     4.659509  4.658665\n",
       "10   3.0     5.875442     5.875604     5.875622  5.874100"
      ]
     },
     "execution_count": 10,
     "metadata": {},
     "output_type": "execute_result"
    }
   ],
   "source": [
    "f = lambda t, y: 1+y/t+(y/t)**2\n",
    "\n",
    "f_actual = lambda t: t*tan(log(t))\n",
    "\n",
    "t = 1\n",
    "y = 0\n",
    "p = 3\n",
    "h = 0.2\n",
    "\n",
    "result=pd.DataFrame()\n",
    "for i in range(2,5):\n",
    "    result_n=abN_rk4(f, f_actual, t, y, p, h, 4,correctors,i,correction=True)\n",
    "    if i==2:\n",
    "        result=pd.DataFrame(result_n[:,:2],columns=['time','2-iteration'])\n",
    "    else:\n",
    "        result[str(i)+\"-iteration\"]=pd.Series(result_n[:,1])\n",
    "result['exact']=pd.Series(result_n[:,2])\n",
    "result.head(n=12)\n",
    "\n",
    "    \n",
    "    "
   ]
  },
  {
   "cell_type": "code",
   "execution_count": 16,
   "metadata": {},
   "outputs": [
    {
     "name": "stdout",
     "output_type": "stream",
     "text": [
      "2.6077517752537257e-06\n"
     ]
    }
   ],
   "source": [
    "def MSE(y_true,y_pred):\n",
    "    return np.sum((y_true-y_pred)**2)\n",
    "print(MSE(result['2-iteration'].values,result['exact'].values))"
   ]
  },
  {
   "cell_type": "code",
   "execution_count": 26,
   "metadata": {},
   "outputs": [
    {
     "data": {
      "text/plain": [
       "[2.6077517752537257e-06, 3.271533494902964e-06, 3.3484177610901586e-06]"
      ]
     },
     "execution_count": 26,
     "metadata": {},
     "output_type": "execute_result"
    }
   ],
   "source": [
    "errors=[]\n",
    "for c in result.columns:\n",
    "    if(c!='time' and c!='exact'):\n",
    "        errors.append(MSE(result[c].values,result['exact'].values))\n",
    "errors"
   ]
  }
 ],
 "metadata": {
  "kernelspec": {
   "display_name": "Python 3",
   "language": "python",
   "name": "python3"
  },
  "language_info": {
   "codemirror_mode": {
    "name": "ipython",
    "version": 3
   },
   "file_extension": ".py",
   "mimetype": "text/x-python",
   "name": "python",
   "nbconvert_exporter": "python",
   "pygments_lexer": "ipython3",
   "version": "3.10.10"
  },
  "orig_nbformat": 4
 },
 "nbformat": 4,
 "nbformat_minor": 2
}
