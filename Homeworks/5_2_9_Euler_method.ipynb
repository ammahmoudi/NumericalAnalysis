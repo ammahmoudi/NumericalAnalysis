{
 "cells": [
  {
   "cell_type": "markdown",
   "metadata": {},
   "source": [
    "[Amirhossein Mahmoudi](https://ammahmoudi.github.io)\n",
    "# Euler Method\n",
    "solution to [Numerical Analysis (R. Burden, Aires, A. Burden) [10th Ed.]](https://www.amazon.com/Richard-Burden-Numerical-Analysis-Hardcover/dp/B00SB3UL20) Section 5.2 question 9\n",
    "\n",
    "![7](images/5_2_9.png)"
   ]
  },
  {
   "cell_type": "code",
   "execution_count": 97,
   "metadata": {},
   "outputs": [],
   "source": [
    "\n",
    "# Function for euler formula\n",
    "def euler(f, x0, y0, h, x ):\n",
    "    \n",
    "    result=[]\n",
    "    result.append([x0,y0])\n",
    "    # Iterating till the point at which we\n",
    "    # need approximation\n",
    "    y=y0\n",
    "    while x0 < x:\n",
    "    \n",
    "        y = y + h * f(x0, y)\n",
    "        x0 = x0 + h\n",
    "        result.append([x0,y])\n",
    " \n",
    "    return result"
   ]
  },
  {
   "attachments": {},
   "cell_type": "markdown",
   "metadata": {},
   "source": [
    "# a."
   ]
  },
  {
   "cell_type": "code",
   "execution_count": 95,
   "metadata": {},
   "outputs": [
    {
     "data": {
      "text/plain": [
       "array([1. , 1.1, 1.2, 1.3, 1.4, 1.5, 1.6, 1.7, 1.8, 1.9])"
      ]
     },
     "execution_count": 95,
     "metadata": {},
     "output_type": "execute_result"
    }
   ],
   "source": [
    "import numpy as np\n",
    "import pandas as pd\n",
    "np.arange(1,2,0.1)"
   ]
  },
  {
   "cell_type": "code",
   "execution_count": 96,
   "metadata": {},
   "outputs": [],
   "source": [
    "def func(t, y):\n",
    "    return (2/t*y+t**2*np.exp(t))\n",
    "     "
   ]
  },
  {
   "cell_type": "code",
   "execution_count": 98,
   "metadata": {},
   "outputs": [],
   "source": [
    "def y_exact(t):\n",
    "    return t**2*(np.exp(t)-np.exp(1))"
   ]
  },
  {
   "cell_type": "code",
   "execution_count": 99,
   "metadata": {},
   "outputs": [
    {
     "data": {
      "text/html": [
       "<div>\n",
       "<style scoped>\n",
       "    .dataframe tbody tr th:only-of-type {\n",
       "        vertical-align: middle;\n",
       "    }\n",
       "\n",
       "    .dataframe tbody tr th {\n",
       "        vertical-align: top;\n",
       "    }\n",
       "\n",
       "    .dataframe thead th {\n",
       "        text-align: right;\n",
       "    }\n",
       "</style>\n",
       "<table border=\"1\" class=\"dataframe\">\n",
       "  <thead>\n",
       "    <tr style=\"text-align: right;\">\n",
       "      <th></th>\n",
       "      <th>x</th>\n",
       "      <th>y_euler</th>\n",
       "      <th>y_exact</th>\n",
       "      <th>error</th>\n",
       "    </tr>\n",
       "  </thead>\n",
       "  <tbody>\n",
       "    <tr>\n",
       "      <th>0</th>\n",
       "      <td>1.0</td>\n",
       "      <td>0.000000</td>\n",
       "      <td>0.000000</td>\n",
       "      <td>0.000000</td>\n",
       "    </tr>\n",
       "    <tr>\n",
       "      <th>1</th>\n",
       "      <td>1.1</td>\n",
       "      <td>0.271828</td>\n",
       "      <td>0.345920</td>\n",
       "      <td>0.074092</td>\n",
       "    </tr>\n",
       "    <tr>\n",
       "      <th>2</th>\n",
       "      <td>1.2</td>\n",
       "      <td>0.684756</td>\n",
       "      <td>0.866643</td>\n",
       "      <td>0.181887</td>\n",
       "    </tr>\n",
       "    <tr>\n",
       "      <th>3</th>\n",
       "      <td>1.3</td>\n",
       "      <td>1.276978</td>\n",
       "      <td>1.607215</td>\n",
       "      <td>0.330237</td>\n",
       "    </tr>\n",
       "    <tr>\n",
       "      <th>4</th>\n",
       "      <td>1.4</td>\n",
       "      <td>2.093548</td>\n",
       "      <td>2.620360</td>\n",
       "      <td>0.526812</td>\n",
       "    </tr>\n",
       "    <tr>\n",
       "      <th>5</th>\n",
       "      <td>1.5</td>\n",
       "      <td>3.187445</td>\n",
       "      <td>3.967666</td>\n",
       "      <td>0.780221</td>\n",
       "    </tr>\n",
       "    <tr>\n",
       "      <th>6</th>\n",
       "      <td>1.6</td>\n",
       "      <td>4.620818</td>\n",
       "      <td>5.720962</td>\n",
       "      <td>1.100144</td>\n",
       "    </tr>\n",
       "    <tr>\n",
       "      <th>7</th>\n",
       "      <td>1.7</td>\n",
       "      <td>6.466396</td>\n",
       "      <td>7.963873</td>\n",
       "      <td>1.497477</td>\n",
       "    </tr>\n",
       "    <tr>\n",
       "      <th>8</th>\n",
       "      <td>1.8</td>\n",
       "      <td>8.809120</td>\n",
       "      <td>10.793625</td>\n",
       "      <td>1.984505</td>\n",
       "    </tr>\n",
       "    <tr>\n",
       "      <th>9</th>\n",
       "      <td>1.9</td>\n",
       "      <td>11.747997</td>\n",
       "      <td>14.323082</td>\n",
       "      <td>2.575085</td>\n",
       "    </tr>\n",
       "    <tr>\n",
       "      <th>10</th>\n",
       "      <td>2.0</td>\n",
       "      <td>15.398236</td>\n",
       "      <td>18.683097</td>\n",
       "      <td>3.284861</td>\n",
       "    </tr>\n",
       "  </tbody>\n",
       "</table>\n",
       "</div>"
      ],
      "text/plain": [
       "      x    y_euler    y_exact     error\n",
       "0   1.0   0.000000   0.000000  0.000000\n",
       "1   1.1   0.271828   0.345920  0.074092\n",
       "2   1.2   0.684756   0.866643  0.181887\n",
       "3   1.3   1.276978   1.607215  0.330237\n",
       "4   1.4   2.093548   2.620360  0.526812\n",
       "5   1.5   3.187445   3.967666  0.780221\n",
       "6   1.6   4.620818   5.720962  1.100144\n",
       "7   1.7   6.466396   7.963873  1.497477\n",
       "8   1.8   8.809120  10.793625  1.984505\n",
       "9   1.9  11.747997  14.323082  2.575085\n",
       "10  2.0  15.398236  18.683097  3.284861"
      ]
     },
     "execution_count": 99,
     "metadata": {},
     "output_type": "execute_result"
    }
   ],
   "source": [
    "# Value of x at which we need approximation\n",
    "result_euler=euler(f=func,h=0.1,x0=1,y0=0,x=2)\n",
    "\n",
    "result_exact=y_exact(np.array(result_euler)[:,0])\n",
    "table=pd.DataFrame(np.c_[result_euler,result_exact],columns=['x','y_euler','y_exact'])\n",
    "table['error']=abs(table['y_exact']-table['y_euler'])\n",
    "table.head(n=20)"
   ]
  },
  {
   "attachments": {},
   "cell_type": "markdown",
   "metadata": {},
   "source": [
    "# b. Linear interpolation"
   ]
  },
  {
   "cell_type": "code",
   "execution_count": 100,
   "metadata": {},
   "outputs": [
    {
     "name": "stdout",
     "output_type": "stream",
     "text": [
      "0.10873127313836181 3.9041314843692168 14.303163920134224\n"
     ]
    }
   ],
   "source": [
    "i=np.interp(1.04,[1.0,1.1],table.iloc[0:2,1].values)\n",
    "ii=np.interp(1.55,[1.5,1.6],table.iloc[5:7,1].values)\n",
    "iii=np.interp(1.97,[1.9,2],table.iloc[9:,1].values)\n",
    "print(i,ii,iii)"
   ]
  }
 ],
 "metadata": {
  "kernelspec": {
   "display_name": "Python 3",
   "language": "python",
   "name": "python3"
  },
  "language_info": {
   "codemirror_mode": {
    "name": "ipython",
    "version": 3
   },
   "file_extension": ".py",
   "mimetype": "text/x-python",
   "name": "python",
   "nbconvert_exporter": "python",
   "pygments_lexer": "ipython3",
   "version": "3.10.8"
  },
  "orig_nbformat": 4
 },
 "nbformat": 4,
 "nbformat_minor": 2
}
